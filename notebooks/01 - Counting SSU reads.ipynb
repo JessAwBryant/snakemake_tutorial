{
 "cells": [
  {
   "cell_type": "markdown",
   "metadata": {
    "nbpresent": {
     "id": "c200b928-ac10-4372-833c-9c171037f14f"
    }
   },
   "source": [
    "# Snakemake Tutorial\n",
    "## Using Snakemake in everyday bioinformatics tasks\n",
    "This tutorial will walk you through creating a workflow for a relatively simple bioinformatics application. "
   ]
  },
  {
   "cell_type": "markdown",
   "metadata": {
    "nbpresent": {
     "id": "93f35b27-c4a5-4e2b-b28d-20baaee91e4f"
    }
   },
   "source": [
    "### A note on Abstraction"
   ]
  },
  {
   "cell_type": "markdown",
   "metadata": {
    "nbpresent": {
     "id": "8151f2f5-6f2f-45e1-a5c3-e7d1ef1b15f1"
    }
   },
   "source": [
    "#### Modular and incomprehensible\n",
    "Snakemake is a powerful programming language for building and deploying workflows on a large scale. It provides many abstraction tools or ways to generalize rules to apply to many different cases. This usually makes mature workflows hard to understand at first glance. \n",
    "\n",
    "If you look at the code in my workflows repository, you’ll see a tendency to overuse abstraction. As a result, much of the code can be reused in multiple different workflows, but it’s really hard to follow what’s going on in any particular workflow.\n",
    "#### Single use\n",
    "You can chose to skip the abstraction altogether and explicitly name every file you wish to use. This makes the workflow much easier to write and to understand, but harder to reuse.\n",
    "#### Finding a balance\n",
    "I would suggest finding a balance. In this tutorial we’ll start by creating a single use workflow with every file name explicitly specified. ONce we get going, we’ll add a small touch of abstraction that will make our workflow more generally useful with little effort and almost no loss of readability. It may even make it easier to understand.\n",
    "\n",
    "There are more things that can be done without affecting readability, but it’s a slippery slope, so we’ll start with just this one."
   ]
  },
  {
   "cell_type": "markdown",
   "metadata": {
    "nbpresent": {
     "id": "646913e3-d7f8-416e-b9f0-ef99f650a509"
    }
   },
   "source": [
    "### Setting up\n",
    "The workflow we’re building in this tutorial will identify and count taxa using rRNA fragments in a fastq file of transcriptomic reads.\n",
    "\n",
    "We’ll need a few things:\n",
    " \n",
    " * some fastq files to play with\n",
    " * the rRNA models from RFAM\n",
    " * the Silva SSU fasta database\n",
    " * a few bits of softaware (bwa, infernal, etc) that should already be installed via conda\n",
    " \n",
    "Conda env:\n",
    "\n",
    "The conda environment running this notebook should have been set up with the command:\n",
    "```\n",
    " $ conda env create -n tutorial -f conda.yml\n",
    "```\n",
    "\n",
    "Where conda.yml looks like this:"
   ]
  },
  {
   "cell_type": "code",
   "execution_count": null,
   "metadata": {
    "nbpresent": {
     "id": "01294872-9852-40b0-a180-20de9661e3b8"
    }
   },
   "outputs": [],
   "source": [
    "%load ../conda.yml"
   ]
  },
  {
   "cell_type": "markdown",
   "metadata": {
    "nbpresent": {
     "id": "b66c8b22-1bf0-4579-9759-9fe5e501ac60"
    }
   },
   "source": [
    "### A first makefile\n",
    "#### makefile or snakefile\n",
    "First a note on my use of the words snakefile and makefile. Makefile is the term used for a workflow file written for gnu make or any of its relatives (eg cmake). Snakemake calls its files “Snakefiles”. I really don’t like this term on purely aesthetic grounds so I use “makefile” in a general sense to describe any text document defining (part of) a workflow as a set of rules.\n",
    "\n",
    "#### Test data\n",
    "Let’s create an empty temporary directory to work in. In this directory, we'll put a fastq file to start with:"
   ]
  },
  {
   "cell_type": "code",
   "execution_count": null,
   "metadata": {
    "nbpresent": {
     "id": "d5cbe594-1ae3-4866-b27f-14983120443f"
    }
   },
   "outputs": [],
   "source": [
    "!rm -rf tmp_1\n",
    "!mkdir tmp_1\n",
    "%cd tmp_1\n",
    "!cp ../../data/my.reads.fastq ./"
   ]
  },
  {
   "cell_type": "markdown",
   "metadata": {},
   "source": [
    "#### rRNA identification\n",
    "We’ll use the rRNA models that come with the workflows (and are originally from RFAM) to identify sequences in our data. The command should look something like this:\n",
    "\n",
    "```\n",
    " $ cmsearch --hmmonly -o /dev/null --tblout output.tbl --cpu 10             /slipstream/home/jmeppley/work/workflows/annotation/models/rRNA.cm my.reads.fasta\n",
    "```"
   ]
  },
  {
   "cell_type": "code",
   "execution_count": null,
   "metadata": {},
   "outputs": [],
   "source": [
    "!cmsearch --hmmonly -o /dev/null --tblout output.tbl --cpu 10  ../../data/rRNA.cm my.reads.fastq"
   ]
  },
  {
   "cell_type": "markdown",
   "metadata": {
    "nbpresent": {
     "id": "ca9d3372-7a12-4430-9c9c-ce6384d8fef5"
    }
   },
   "source": [
    "We already have a problem. The input is expected in fasta format, but we have fastq. We’ll need to use seqtk first:\n",
    "\n",
    "```\n",
    " $ seqtk seq -A my.reads.fastq > my.reads.fasta\n",
    "```\n",
    "\n",
    "It's time to create a small makefile to chain the two rules together:"
   ]
  },
  {
   "cell_type": "code",
   "execution_count": null,
   "metadata": {
    "nbpresent": {
     "id": "51b49798-bbc3-4347-863c-103b5ed817c8"
    }
   },
   "outputs": [],
   "source": [
    "%%writefile Snakefile\n",
    "rule find_rrna:\n",
    "  input: \"my.reads.fasta\"\n",
    "  output: \"my.reads.rrna.cmsearch.tbl\"\n",
    "  params:\n",
    "    model = \"../../data/rRNA.cm\"\n",
    "  shell: \n",
    "    \"cmsearch --hmmonly -o /dev/null --tblout {output} --cpu 10 {params.model} {input}\"\n",
    "\n",
    "rule fastq_to_fasta:\n",
    "  input: \"my.reads.fastq\"\n",
    "  output: \"my.reads.fasta\"\n",
    "  shell: \"seqtk seq -A {input} > {output}\""
   ]
  },
  {
   "cell_type": "markdown",
   "metadata": {
    "nbpresent": {
     "id": "351555c4-a8db-4382-9cd7-aca9eb79b044"
    }
   },
   "source": [
    "Now you can run it with the `snakemake` command:"
   ]
  },
  {
   "cell_type": "code",
   "execution_count": null,
   "metadata": {
    "nbpresent": {
     "id": "b1a01762-4bef-461f-9823-c95a739a6bf8"
    }
   },
   "outputs": [],
   "source": [
    "!rm ./my.reads.fasta ./my.reads.rrna.cmsearch.tbl"
   ]
  },
  {
   "cell_type": "code",
   "execution_count": null,
   "metadata": {
    "nbpresent": {
     "id": "ddd29e64-6710-4c42-86d4-3add7f489109"
    }
   },
   "outputs": [],
   "source": [
    "%%bash\n",
    "snakemake -p"
   ]
  },
  {
   "cell_type": "markdown",
   "metadata": {
    "nbpresent": {
     "id": "bfe0c8c7-29ed-412f-8c3b-42266cf8f467"
    }
   },
   "source": [
    "In about a minute, you’ll get your cmsearch results!\n",
    "\n",
    "#### Breaking it Down\n",
    "Now you have created a makefile and run snakemake. How did it work?\n",
    "\n",
    "##### Rules\n",
    "Each rule in the snakefiel corresponds to a step of the workflow. A rule usually has inputs, outputs, and some sort of action to take. Generally, one rule runs one command.  \n",
    "\n",
    "###### input:\n",
    "This defines the input of a rule. It can be a single file or multiple files. The indicated file(s) must exist before the rule can be run.\n",
    "\n",
    "###### output:\n",
    "This defines the output file or files. The rule is only run if any of the output files is missing or is older than any of the the input files. \n",
    "\n",
    "###### params:\n",
    "This defines any number of named values that can be used in the command. In the above case, it’s unnecessary, since we could just put the db path in the command. However, I think it simplifies the command. It can also be useful if you want to determine the database location dynamically in a later version of the makefile.\n",
    "\n",
    "###### shell:\n",
    "This contains the snippet of bash to be run. As stated above, this is usually a single command. It behaves almost exactly as if you had typed it into your command prompt with a few exceptions explained here. \n",
    "\n",
    "The “shell:” directive can be a larger chunk of bash that contains multiple commands. This makes sense if you feel that conceptually they are all part of the same step. In general, though, you want to avoid combining multiple commands into one step, because it makes your workflow much harder to debug. \n",
    "\n",
    "A rule can also run a snippet of python code (using the keyword \"run:\" instead of \"shell:\"). This can be really handy for the little things that need to happen along the way that can’t be done easily with off the shelf software. I also use it at the end of some workflows to report some basic statistics. Because that code is only relevant to the specific workflow, there is no need to put it into its own script.\n",
    "\n",
    "##### Rule order\n",
    "You’ll notice that the makefile starts with the last rule to be run. This is because the convention is for the first rule to be run if needed. All the other rules are only run if they are needed to complete the first rule.\n",
    "\n",
    "Another common approach is to put a dummy rule at the start that only defines input files. Since it has no output, it gets run every time. Since it has no “shell” or “run” directive, nothing actually happens when it is run. However, snakemake will make sure that all of its input files are updated if necessary before running the first rule. So, if the input files of that first rule are the files you want the workflow to produce, snakemake will figure out how to produce those files. \n",
    "\n",
    "If we had written the makefile like this:\n",
    "\n",
    "```\n",
    "rule outputs:\n",
    "    input: “my.reads.rrna.cmsearch.tbl”\n",
    "\n",
    "rule fastq_to_fasta:\n",
    "    . . .\n",
    "\n",
    "rule find_rrna:\n",
    "    . . . \n",
    "```\n",
    "\n",
    "Snakemake would figure out that find_rrna needs to be run to make the .tbl file AND that fastq_to_fasta needs to be run before that."
   ]
  },
  {
   "cell_type": "markdown",
   "metadata": {
    "nbpresent": {
     "id": "40b28dc6-b9d2-4feb-96ae-998120ac4997"
    }
   },
   "source": [
    "#### Add Abstraction\n",
    "The makefile you just created is nice, but if you have two or more files to process, you can't have the file names hard-coded into the rule inputs. You can get around this by putting wildcards into you input and output declarations.\n",
    "\n",
    "As mentioned above, too much abstraction can get confusing, but a little can be powerful. Since this is a very common use case and the confusion is minimal, it’s usually worth it."
   ]
  },
  {
   "cell_type": "markdown",
   "metadata": {
    "nbpresent": {
     "id": "63dcb7e6-f7da-4654-9c5a-fbddeba265e0"
    }
   },
   "source": [
    "##### Add wildcards\n",
    "Modify the makefile to put a sample name place holder anywhere we used “my”:"
   ]
  },
  {
   "cell_type": "code",
   "execution_count": null,
   "metadata": {
    "nbpresent": {
     "id": "8b7b67b7-070e-4746-9048-7f94b255ac29"
    }
   },
   "outputs": [],
   "source": [
    "%%writefile Snakefile\n",
    "rule find_rrna:\n",
    "  input: \"{sample}.reads.fasta\"\n",
    "  output: \"{sample}.reads.rrna.cmsearch.tbl\"\n",
    "  params:\n",
    "    model = \"../../data/rRNA.cm\"\n",
    "  shell: \n",
    "    \"cmsearch --hmmonly -o /dev/null --tblout {output} --cpu 10 {params.model} {input}\"\n",
    "\n",
    "rule fastq_to_fasta:\n",
    "  input: \"{sample}.reads.fastq\"\n",
    "  output: \"{sample}.reads.fasta\"\n",
    "  shell: \"seqtk seq -A {input} > {output}\""
   ]
  },
  {
   "cell_type": "markdown",
   "metadata": {
    "nbpresent": {
     "id": "6690a382-6c5b-457f-a917-24dfef5ef557"
    }
   },
   "source": [
    "Notice that \"my\" has been replaced by \"{sample}\" all over the makefile. Now we can supply a file with a different prefix, and the workflow will apply the same rules:"
   ]
  },
  {
   "cell_type": "code",
   "execution_count": null,
   "metadata": {
    "nbpresent": {
     "id": "5139a107-3226-4a23-8074-60403dafac43"
    }
   },
   "outputs": [],
   "source": [
    "%%bash\n",
    "cp ../../data/other.reads.fastq ./\n",
    "snakemake -p"
   ]
  },
  {
   "cell_type": "markdown",
   "metadata": {
    "nbpresent": {
     "id": "3b68a16b-43fc-4230-9191-ca0024b5e196"
    }
   },
   "source": [
    "##### What happened?\n",
    "If a specific output file is not specified, Snakemake uses the first rule as the \"target\". If the target rule uses wild cards for input and output files, snakmake doesn't know what to do.\n",
    "\n",
    "We can work around this by manually specifying the output file:"
   ]
  },
  {
   "cell_type": "code",
   "execution_count": null,
   "metadata": {
    "nbpresent": {
     "id": "83f692ea-d19d-4536-8bee-1435529fd63f"
    }
   },
   "outputs": [],
   "source": [
    "%%bash\n",
    "snakemake -p my.reads.rrna.cmsearch.tbl"
   ]
  },
  {
   "cell_type": "markdown",
   "metadata": {
    "nbpresent": {
     "id": "3e3d0822-842d-475b-9e58-493a149a16fa"
    }
   },
   "source": [
    "However, you'd have to list every file you want to create. \n",
    "\n",
    "You can use BASH to loop over the fastq files:\n",
    "```\n",
    " $ for FASTQ_FILE in *.reads.fastq; do \n",
    " > snakemake ${FASTQ_FILE%%.fastq}.rrna.cmsearch.tbl\n",
    " > done\n",
    "```\n",
    "\n",
    "Or you can put that logic into a new target rule in the makefile, using python."
   ]
  },
  {
   "cell_type": "markdown",
   "metadata": {},
   "source": [
    "First, we'll use python to generate the list of samples from the available fastq files:"
   ]
  },
  {
   "cell_type": "code",
   "execution_count": null,
   "metadata": {},
   "outputs": [],
   "source": [
    "import glob\n",
    "fastq_files = glob.glob(\"*.reads.fastq\")\n",
    "print(fastq_files)"
   ]
  },
  {
   "cell_type": "code",
   "execution_count": null,
   "metadata": {},
   "outputs": [],
   "source": [
    "import re\n",
    "for f in fastq_files:\n",
    "    sample = re.sub(r'\\.reads\\.fastq','',f)\n",
    "    print(\"{} -> {}\".format(f, sample))"
   ]
  },
  {
   "cell_type": "markdown",
   "metadata": {},
   "source": [
    "Putting it into the makefile in a more concise notation, and use snakemake's `expand` function to generate the outputs files:"
   ]
  },
  {
   "cell_type": "code",
   "execution_count": null,
   "metadata": {
    "nbpresent": {
     "id": "9f4633b5-4b72-4f00-9738-cdebaf497cf2"
    }
   },
   "outputs": [],
   "source": [
    "%%writefile Snakefile\n",
    "\n",
    "# load some python modules to help us out\n",
    "import glob, re\n",
    "\n",
    "# define a sample for each *.reads.fastq file\n",
    "samples = [re.sub(r'\\.reads\\.fastq','',f) \\\n",
    "           for f in glob.glob('*.reads.fastq')]\n",
    "\n",
    "rule target:\n",
    "  \"\"\" generate a cmsearch table for every sample \"\"\"\n",
    "  input: expand(\"{sample}.reads.rrna.cmsearch.tbl\", sample=samples)\n",
    "        \n",
    "rule find_rrna:\n",
    "  input: \"{sample}.reads.fasta\"\n",
    "  output: \"{sample}.reads.rrna.cmsearch.tbl\"\n",
    "  params:\n",
    "    model = \"../../data/rRNA.cm\"\n",
    "  shell: \n",
    "    \"cmsearch --hmmonly -o /dev/null --tblout {output} --cpu 10 {params.model} {input}\"\n",
    "\n",
    "rule fastq_to_fasta:\n",
    "  input: \"{sample}.reads.fastq\"\n",
    "  output: \"{sample}.reads.fasta\"\n",
    "  shell: \"seqtk seq -A {input} > {output}\""
   ]
  },
  {
   "cell_type": "markdown",
   "metadata": {
    "nbpresent": {
     "id": "ce8e3e14-a6ef-47a1-984d-37e13200dbf1"
    }
   },
   "source": [
    "It uses the glob and re Python libraries creates a list of samples from all the files that look like sample.reads.fastq. Then it uses that list of samples and snakemake’s expand() function to generate the list of final output files.\n",
    "\n",
    "Now, running `snakemake` will generate both .tbl files!"
   ]
  },
  {
   "cell_type": "code",
   "execution_count": null,
   "metadata": {
    "nbpresent": {
     "id": "fdc145d7-848a-41cb-bfce-d8c82d66f1b4"
    }
   },
   "outputs": [],
   "source": [
    "%%bash\n",
    "snakemake -p"
   ]
  },
  {
   "cell_type": "markdown",
   "metadata": {
    "nbpresent": {
     "id": "2d157736-989a-4fbb-8071-b8972c1fbf0b"
    }
   },
   "source": [
    "Except it won’t cerate both, because one already exists! Snakemake won’t re-run a rule if the input file is older than the output Note that only the new file (\"other\") was processed, since the first sample has already been done!"
   ]
  },
  {
   "cell_type": "markdown",
   "metadata": {
    "nbpresent": {
     "id": "6b24e448-0731-4263-ac81-d094e6fc6f4e"
    }
   },
   "source": [
    "#### Growing the makefile\n",
    "Now we have a makefile that will run a couple rules on any number of fast files in the current directory. Let’s add a few more rules to make it more useful.\n",
    "\n",
    "We have a list of reads that match the rRNA models from RFAM, but what organisms are they. Let’s pull out things that matched the SSU model and search Silva for them."
   ]
  },
  {
   "cell_type": "markdown",
   "metadata": {
    "nbpresent": {
     "id": "7fb870e9-b3d2-4741-b96d-1b67d194c606"
    }
   },
   "source": [
    "##### SSU only\n",
    "Identify reads\n",
    "The Silva SSU database has some contamination from LSU and other sources, so let’s only use reads that match the SSU HMMs.\n",
    "\n",
    "```\n",
    "rule filter_rrna_tbl:\n",
    "    input: \"{sample}.reads.rrna.cmsearch.tbl\"\n",
    "    output: \"{sample}.reads.rrna.cmsearch.SSU.tbl\"\n",
    "    shell: \"grep SSU {input} > {output}\"\n",
    "```"
   ]
  },
  {
   "cell_type": "markdown",
   "metadata": {
    "nbpresent": {
     "id": "c1cadd78-00c6-46af-8834-5e982ab7fd6b"
    }
   },
   "source": [
    "##### Isolate reads\n",
    "We need to pull out just the matching reads from the fastq:\n",
    "\n",
    "```\n",
    "rule filter_rrna:\n",
    "    \"\"\" Pull rRNA reads out of a fastq file using cmsearch hits \"\"\"\n",
    "    input:\n",
    "        reads=\"{sample}.reads.fastq\",\n",
    "        hits=\"{sample}.reads.rrna.cmsearch.SSU.tbl\"\n",
    "    output: \"{sample}.SSU.fastq\"\n",
    "    shell:\n",
    "        \"screen_list.py -k -l {input.hits} -C 0 -f fastq -v {input.reads} > {output} 2> {output}.log\"\n",
    "```"
   ]
  },
  {
   "cell_type": "markdown",
   "metadata": {
    "nbpresent": {
     "id": "7dbc7bb3-4bf5-4554-9867-badfab2b3418"
    }
   },
   "source": [
    "###### Map to Silva\n",
    "Find the best hit in Silva using the DBs configured for Galaxy:\n",
    "\n",
    "```\n",
    "rule map_reads_to_silva:\n",
    "    input: \"{sample}.SSU.fastq\"\n",
    "    output: \"{sample}.SSU.vs.Silva.sam\"\n",
    "    params:\n",
    "        db='/mnt/histidine/galaxydata/seqdbs/Silva/123_1/Silva_123_SSURef_NR99/bwadb'\n",
    "    shell: \"bwa mem -t 15 {params.db} {input} > {output} 2> {output}.log\"\n",
    "```"
   ]
  },
  {
   "cell_type": "code",
   "execution_count": null,
   "metadata": {
    "nbpresent": {
     "id": "21bae5af-b752-43c7-87d5-0fd05ea0d277"
    }
   },
   "outputs": [],
   "source": [
    "%%writefile Snakefile\n",
    "\n",
    "# we'll leave out the target rule for now until we get to the final version\n",
    "\n",
    "rule map_reads_to_silva:\n",
    "    input: \"{sample}.SSU.fastq\"\n",
    "    output: \"{sample}.SSU.vs.Silva.sam\"\n",
    "    params:\n",
    "        db='../../data/Silva.SSU.fasta'\n",
    "    shell: \"bwa mem -t 15 {params.db} {input} > {output} 2> {output}.log\"\n",
    "\n",
    "rule filter_rrna:\n",
    "    \"\"\" Pull rRNA reads out of a fastq file using cmsearch hits \"\"\"\n",
    "    input:\n",
    "        reads=\"{sample}.reads.fastq\",\n",
    "        hits=\"{sample}.reads.rrna.cmsearch.SSU.tbl\"\n",
    "    output: \"{sample}.SSU.fastq\"\n",
    "    shell:\n",
    "        \"screen_list.py -k -l {input.hits} -C 0 -f fastq -v {input.reads} > {output} 2> {output}.log\"\n",
    "\n",
    "rule filter_rrna_tbl:\n",
    "    input: \"{sample}.reads.rrna.cmsearch.tbl\"\n",
    "    output: \"{sample}.reads.rrna.cmsearch.SSU.tbl\"\n",
    "    shell: \"grep SSU {input} > {output}\"        \n",
    "\n",
    "rule find_rrna:\n",
    "  \"\"\" Search for sequences that look like rRNA \"\"\"\n",
    "  input: \"{sample}.reads.fasta\"\n",
    "  output: \"{sample}.reads.rrna.cmsearch.tbl\"\n",
    "  params:\n",
    "    model = \"../../data/rRNA.cm\"\n",
    "  shell: \n",
    "    \"cmsearch --hmmonly -o /dev/null --tblout {output} --cpu 10 {params.model} {input}\"\n",
    "\n",
    "rule fastq_to_fasta:\n",
    "  input: \"{sample}.reads.fastq\"\n",
    "  output: \"{sample}.reads.fasta\"\n",
    "  shell: \"seqtk seq -A {input} > {output}\""
   ]
  },
  {
   "cell_type": "code",
   "execution_count": null,
   "metadata": {
    "nbpresent": {
     "id": "d914ce11-93fc-4465-8efa-5279c1d70cd8"
    }
   },
   "outputs": [],
   "source": [
    "%%bash\n",
    "# Let’s test this out on one of the samples:\n",
    "\n",
    "snakemake -p my.SSU.vs.Silva.sam"
   ]
  },
  {
   "cell_type": "markdown",
   "metadata": {
    "nbpresent": {
     "id": "7ad73740-3b0f-4b82-8546-b71171523682"
    }
   },
   "source": [
    "##### What went wrong?"
   ]
  },
  {
   "cell_type": "code",
   "execution_count": null,
   "metadata": {
    "nbpresent": {
     "id": "d11f976e-99ca-46f4-ad4a-86bce872ccea"
    }
   },
   "outputs": [],
   "source": [
    "!cat my.SSU.vs.Silva.sam.log"
   ]
  },
  {
   "cell_type": "markdown",
   "metadata": {
    "nbpresent": {
     "id": "e4e4d642-adc5-4608-8be1-53b35a7b098c"
    }
   },
   "source": [
    "We forgot to index the fast file for BWA. No problem, we'll add a rule for that:\n",
    "\n",
    "```\n",
    "rule index_bwa_db:\n",
    "    \"\"\" create an indexed fasta file for bwa \"\"\"\n",
    "    input: \"{fasta_file}\"\n",
    "    output: \"{fasta_file}.bwt\"\n",
    "    shell: \"bwa index {input}\"\n",
    "```\n",
    "\n",
    "Note that in this case, the output file is not explicitly created. It's implied by the command. \n",
    "\n",
    "We also need to alter the bwa rule to require the indexed fasta as an input:\n",
    "\n",
    "```\n",
    "rule map_reads_to_silva:\n",
    "    \"\"\" The Silva index is an input, but we only give the root file name as an argument \"\"\"\n",
    "    input: \n",
    "        fastq=\"{sample}.SSU.fastq\",\n",
    "        index=\"../../data/Silva.SSU.fasta.bwt\"\n",
    "    output: \"{sample}.SSU.vs.Silva.sam\"\n",
    "    params:\n",
    "        index='../../data/Silva.SSU.fasta'\n",
    "    shell: \"bwa mem -t 15 {params.index} {input.fastq} > {output} 2> {output}.log\"\n",
    "```\n",
    "\n",
    "Here we use a the index parameter to define the command-line option for the inde, eventhough we tell use the actual *.bwt file as the input."
   ]
  },
  {
   "cell_type": "code",
   "execution_count": null,
   "metadata": {
    "nbpresent": {
     "id": "937d0224-649b-4b4a-8f07-becb9fa5938e"
    }
   },
   "outputs": [],
   "source": [
    "%%writefile Snakefile\n",
    "\n",
    "rule index_bwa_db:\n",
    "    \"\"\" create an indexed fasta file for bwa \"\"\"\n",
    "    input: \"{fasta_file}\"\n",
    "    output: \"{fasta_file}.bwt\"\n",
    "    log: \"{fasta_file}.log\"\n",
    "    shell: \"bwa index {input} > {log} 2>&1\"\n",
    "        \n",
    "rule map_reads_to_silva:\n",
    "    \"\"\" The Silva index is an input, but we only give the root file name as an argument \"\"\"\n",
    "    input: \n",
    "        fastq=\"{sample}.SSU.fastq\",\n",
    "        index=\"../../data/Silva.SSU.fasta.bwt\"\n",
    "    output: \"{sample}.SSU.vs.Silva.sam\"\n",
    "    params:\n",
    "        db='../../data/Silva.SSU.fasta'\n",
    "    shell: \"bwa mem -t 15 {params.db} {input.fastq} > {output} 2> {output}.log\"\n",
    "        \n",
    "rule filter_rrna:\n",
    "    \"\"\" Pull rRNA reads out of a fastq file using cmsearch hits \"\"\"\n",
    "    input:\n",
    "        reads=\"{sample}.reads.fastq\",\n",
    "        hits=\"{sample}.reads.rrna.cmsearch.SSU.tbl\"\n",
    "    output: \"{sample}.SSU.fastq\"\n",
    "    shell:\n",
    "        \"screen_list.py -k -l {input.hits} -C 0 -f fastq -v {input.reads} > {output} 2> {output}.log\"\n",
    "\n",
    "rule filter_rrna_tbl:\n",
    "    input: \"{sample}.reads.rrna.cmsearch.tbl\"\n",
    "    output: \"{sample}.reads.rrna.cmsearch.SSU.tbl\"\n",
    "    shell: \"grep SSU {input} > {output}\"        \n",
    "\n",
    "rule find_rrna:\n",
    "  \"\"\" Search for sequences that look like rRNA \"\"\"\n",
    "  input: \"{sample}.reads.fasta\"\n",
    "  output: \"{sample}.reads.rrna.cmsearch.tbl\"\n",
    "  params:\n",
    "    model = \"../../data/rRNA.cm\"\n",
    "  shell: \n",
    "    \"cmsearch --hmmonly -o /dev/null --tblout {output} --cpu 10 {params.model} {input}\"\n",
    "\n",
    "rule fastq_to_fasta:\n",
    "  input: \"{sample}.reads.fastq\"\n",
    "  output: \"{sample}.reads.fasta\"\n",
    "  shell: \"seqtk seq -A {input} > {output}\""
   ]
  },
  {
   "cell_type": "code",
   "execution_count": null,
   "metadata": {
    "nbpresent": {
     "id": "3824c22c-c47c-41c3-b6e3-7725e00e7cfb"
    }
   },
   "outputs": [],
   "source": [
    "!snakemake -p my.SSU.vs.Silva.sam"
   ]
  },
  {
   "cell_type": "code",
   "execution_count": null,
   "metadata": {},
   "outputs": [],
   "source": [
    "!head -5 my.SSU.vs.Silva.sam"
   ]
  },
  {
   "cell_type": "code",
   "execution_count": null,
   "metadata": {},
   "outputs": [],
   "source": [
    "!grep -m 2 -v \"^@\" my.SSU.vs.Silva.sam"
   ]
  },
  {
   "cell_type": "markdown",
   "metadata": {},
   "source": [
    "#### Taxonomic counts\n",
    "We now have a table of Silva hits to our SSU reads. They’d be more useful as taxonomic counts. Let’s add a rule to generate those:\n",
    "\n",
    "We'll use my count_taxa.py script which should look something like this:\n",
    "\n",
    "```\n",
    "count_taxa.py {input} -f sam -o {output} -r genus -F 0 -C LCA \\\n",
    "         -R domain -R phylum -R class -R order -R family -n {taxdump} -m {taxmap}\"\n",
    "```\n",
    "\n",
    "This script will: (1) identify the top scoring hits from each read (2) look up the taxon for each hit (3) count how many times each taxon appears and (4) print out a table of totals.\n",
    "\n",
    "The rule might look like:\n",
    "\n",
    "```\n",
    "rule count_taxa:\n",
    "    \"\"\" count the number of times each taxon was spotted \"\"\"\n",
    "    input: \"{sample}.SSU.vs.Silva.sam\"\n",
    "    output: \"{sample}.SSU.counts.tsv\"\n",
    "    params:\n",
    "        taxdump=\"../../data\",\n",
    "        taxmap=\"../../data/Silva.SSU.tax\"\n",
    "    shell:\n",
    "        \"count_taxa.py {input} -f sam -o {output} \\\n",
    "         -r genus -F 0 -C LCA \\\n",
    "         -R domain -R phylum -R class -R order -R family \\\n",
    "         -n {params.taxdump} -m {params.taxmap}\"\n",
    "```\n",
    "\n",
    "The `-r genus` options tells the script to collect counts at the genus level, while the `-R {rank}` options list all the intermediate ranks to print."
   ]
  },
  {
   "cell_type": "markdown",
   "metadata": {},
   "source": [
    "##### More abstraction: configurable parameters\n",
    "Before we add it to the makefile, though, let's make it a little more flexible.\n",
    "\n",
    "What if we wanted counts other than just at the genus level? We could edit the makefile to change the genus and the name of the output file so we don’t overwrite it. Or we can use wildcards again. But this time, instead of looking up the values from what’s in our folder already, we can pass in at run time.\n",
    "\n",
    "We first edit that last rule to get the rank from the file name:\n",
    "\n",
    "```\n",
    "rule count_taxa:\n",
    "    \"\"\" count the number of times each taxon was spotted \"\"\"\n",
    "    input: \"{sample}.SSU.vs.Silva.sam\"\n",
    "    output: \"{sample}.SSU.{rank}.counts.tsv\"\n",
    "    params:\n",
    "        taxdump=\"../../data\",\n",
    "        taxmap=\"../../data/Silva.SSU.tax\"\n",
    "    shell:\n",
    "        \"count_taxa.py {input} -f sam -o {output} \\\n",
    "         -r {wildcards.rank} -F 0 -C LCA \\\n",
    "         -R domain -R phylum -R class -R order -R family \\\n",
    "         -n {params.taxdump} -m {params.taxmap}\"\n",
    "```\n",
    "\n",
    "Notice that there are only two small changes. We’ve included the {rank} wildcard in our output file name and also replaced “genus” with “{wildcards.rank}” in the shell command. Now if we run the makefile with the appropriately named target, we’ll can choose the rank on the fly:"
   ]
  },
  {
   "cell_type": "code",
   "execution_count": null,
   "metadata": {},
   "outputs": [],
   "source": [
    "%%writefile Snakefile\n",
    "\n",
    "rule count_taxa:\n",
    "    \"\"\" count the number of times each taxon was spotted \"\"\"\n",
    "    input: \"{sample}.SSU.vs.Silva.sam\"\n",
    "    output: \"{sample}.SSU.{rank}.counts.tsv\"\n",
    "    params:\n",
    "        taxdump=\"../../data\",\n",
    "        taxmap=\"../../data/Silva.SSU.tax\"\n",
    "    shell:\n",
    "        \"count_taxa.py {input} -f sam -o {output} \\\n",
    "         -r {wildcards.rank} -F 0 -C LCA \\\n",
    "         -R domain -R phylum -R class -R order -R family \\\n",
    "         -n {params.taxdump} -m {params.taxmap}\"\n",
    "\n",
    "rule index_bwa_db:\n",
    "    \"\"\" create an indexed fasta file for bwa \"\"\"\n",
    "    input: \"{fasta_file}\"\n",
    "    output: \"{fasta_file}.bwt\"\n",
    "    log: \"{fasta_file}.log\"\n",
    "    shell: \"bwa index {input} > {log} 2>&1\"\n",
    "        \n",
    "rule map_reads_to_silva:\n",
    "    \"\"\" The Silva index is an input, but we only give the root file name as an argument \"\"\"\n",
    "    input: \n",
    "        fastq=\"{sample}.SSU.fastq\",\n",
    "        index=\"../../data/Silva.SSU.fasta.bwt\"\n",
    "    output: \"{sample}.SSU.vs.Silva.sam\"\n",
    "    params:\n",
    "        db='../../data/Silva.SSU.fasta'\n",
    "    shell: \"bwa mem -t 15 {params.db} {input.fastq} > {output} 2> {output}.log\"\n",
    "        \n",
    "rule filter_rrna:\n",
    "    \"\"\" Pull rRNA reads out of a fastq file using cmsearch hits \"\"\"\n",
    "    input:\n",
    "        reads=\"{sample}.reads.fastq\",\n",
    "        hits=\"{sample}.reads.rrna.cmsearch.SSU.tbl\"\n",
    "    output: \"{sample}.SSU.fastq\"\n",
    "    shell:\n",
    "        \"screen_list.py -k -l {input.hits} -C 0 -f fastq -v {input.reads} > {output} 2> {output}.log\"\n",
    "\n",
    "rule filter_rrna_tbl:\n",
    "    input: \"{sample}.reads.rrna.cmsearch.tbl\"\n",
    "    output: \"{sample}.reads.rrna.cmsearch.SSU.tbl\"\n",
    "    shell: \"grep SSU {input} > {output}\"        \n",
    "\n",
    "rule find_rrna:\n",
    "  \"\"\" Search for sequences that look like rRNA \"\"\"\n",
    "  input: \"{sample}.reads.fasta\"\n",
    "  output: \"{sample}.reads.rrna.cmsearch.tbl\"\n",
    "  params:\n",
    "    model = \"../../data/rRNA.cm\"\n",
    "  shell: \n",
    "    \"cmsearch --hmmonly -o /dev/null --tblout {output} --cpu 10 {params.model} {input}\"\n",
    "\n",
    "rule fastq_to_fasta:\n",
    "  input: \"{sample}.reads.fastq\"\n",
    "  output: \"{sample}.reads.fasta\"\n",
    "  shell: \"seqtk seq -A {input} > {output}\""
   ]
  },
  {
   "cell_type": "code",
   "execution_count": null,
   "metadata": {},
   "outputs": [],
   "source": [
    "!snakemake my.SSU.domain.counts.tsv"
   ]
  },
  {
   "cell_type": "markdown",
   "metadata": {},
   "source": [
    "This gives us very high level counts:"
   ]
  },
  {
   "cell_type": "code",
   "execution_count": null,
   "metadata": {},
   "outputs": [],
   "source": [
    "! cat my.SSU.domain.counts.tsv"
   ]
  },
  {
   "cell_type": "code",
   "execution_count": null,
   "metadata": {},
   "outputs": [],
   "source": [
    "!snakemake my.SSU.genus.counts.tsv"
   ]
  },
  {
   "cell_type": "markdown",
   "metadata": {},
   "source": [
    "This gives us more detailed counts:"
   ]
  },
  {
   "cell_type": "code",
   "execution_count": null,
   "metadata": {},
   "outputs": [],
   "source": [
    "!head -5 my.SSU.genus.counts.tsv"
   ]
  },
  {
   "cell_type": "markdown",
   "metadata": {},
   "source": [
    "#### Putting it all together\n",
    "\n",
    "We have now built up a workflow that takes us from fastq to taxonomic counts. Let’s package it nicely so that we can re-use it on any number of sampes. \n",
    "\n",
    "We need to restore the target rule. This time the final output file will be:\n",
    "```\n",
    "{sample}.SSU.{rank}.counts.tsv\n",
    "```\n",
    "\n",
    "We can generate the list of samples as before, but how do we tell the script which rank to generate? \n",
    "\n",
    "##### Configuration\n",
    "The `config` object gives us a way to pass in values from the command line. It behaves like a python dictionary. So if we add\n",
    "```\n",
    "--config rank=order\n",
    "```\n",
    "to our command, we will have an object in the makefile that looks like:"
   ]
  },
  {
   "cell_type": "code",
   "execution_count": null,
   "metadata": {
    "collapsed": true
   },
   "outputs": [],
   "source": [
    "config = {'rank': 'order'}"
   ]
  },
  {
   "cell_type": "markdown",
   "metadata": {},
   "source": [
    "It's good practice to have a default value for configuration paramters. The easiest way to do that is using the dictionary's `setdefault` function:"
   ]
  },
  {
   "cell_type": "code",
   "execution_count": null,
   "metadata": {},
   "outputs": [],
   "source": [
    "rank = config.setdefault('rank', 'genus')\n",
    "print(rank)"
   ]
  },
  {
   "cell_type": "code",
   "execution_count": null,
   "metadata": {},
   "outputs": [],
   "source": [
    "del config['rank']\n",
    "rank = config.setdefault('rank', 'genus')\n",
    "print(rank)"
   ]
  },
  {
   "cell_type": "markdown",
   "metadata": {},
   "source": [
    "Here is what the final makefile might look like:"
   ]
  },
  {
   "cell_type": "code",
   "execution_count": null,
   "metadata": {},
   "outputs": [],
   "source": [
    "%%writefile Snakefile\n",
    "import glob, re\n",
    "\n",
    "# define a sample for each *.reads.fastq file\n",
    "samples = [re.sub(r'\\.reads\\.fastq','',f) \\\n",
    "           for f in glob.glob('*.reads.fastq')]\n",
    "\n",
    "# We add a hook to get a list of taxonomic ranks from the configuration\n",
    "#  I've added a little python to allow multiple ranks\n",
    "ranks = config.setdefault('ranks', 'domain,genus').split(\",\")\n",
    "\n",
    "# When we run the workflow, we’ll use the `--config` flag to pass a key=value pair into the “config” dictionary. \n",
    "# This configuration object (see here and here) is a powerful tool for generalizing workflows and rules, \n",
    "# but it can quickly add complexity to a workflow, so use it sparingly at first.\n",
    "\n",
    "# We’ll update our target rule to do counts at all requested ranks for all samples:\n",
    "rule target:\n",
    "  \"\"\" generate a count table for every sample at requested ranks \"\"\"\n",
    "  input: \n",
    "        expand(\"{sample}.SSU.{rank}.counts.tsv\", \n",
    "                sample=samples, \n",
    "                rank=ranks)\n",
    "\n",
    "# We complete our makefile with the substantive rules from above:\n",
    "rule count_taxa:\n",
    "    \"\"\" count the number of times each taxon was spotted \"\"\"\n",
    "    input: \"{sample}.SSU.vs.Silva.sam\"\n",
    "    output: \"{sample}.SSU.{rank}.counts.tsv\"\n",
    "    params:\n",
    "        taxdump=\"../../data\",\n",
    "        taxmap=\"../../data/Silva.SSU.tax\"\n",
    "    shell:\n",
    "        \"count_taxa.py {input} -f sam -o {output} \\\n",
    "         -r {wildcards.rank} -F 0 -C LCA \\\n",
    "         -R domain -R phylum -R class -R order -R family \\\n",
    "         -n {params.taxdump} -m {params.taxmap}\"\n",
    "\n",
    "rule index_bwa_db:\n",
    "    \"\"\" create an indexed fasta file for bwa \"\"\"\n",
    "    input: \"{fasta_file}\"\n",
    "    output: \"{fasta_file}.bwt\"\n",
    "    log: \"{fasta_file}.log\"\n",
    "    shell: \"bwa index {input} > {log} 2>&1\"\n",
    "        \n",
    "rule map_reads_to_silva:\n",
    "    \"\"\" The Silva index is an input, but we only give the root file name as an argument \"\"\"\n",
    "    input: \n",
    "        fastq=\"{sample}.SSU.fastq\",\n",
    "        index=\"../../data/Silva.SSU.fasta.bwt\"\n",
    "    output: \"{sample}.SSU.vs.Silva.sam\"\n",
    "    params:\n",
    "        db='../../data/Silva.SSU.fasta'\n",
    "    shell: \"bwa mem -t 15 {params.db} {input.fastq} > {output} 2> {output}.log\"\n",
    "        \n",
    "rule filter_rrna:\n",
    "    \"\"\" Pull rRNA reads out of a fastq file using cmsearch hits \"\"\"\n",
    "    input:\n",
    "        reads=\"{sample}.reads.fastq\",\n",
    "        hits=\"{sample}.reads.rrna.cmsearch.SSU.tbl\"\n",
    "    output: \"{sample}.SSU.fastq\"\n",
    "    shell:\n",
    "        \"screen_list.py -k -l {input.hits} -C 0 -f fastq -v {input.reads} > {output} 2> {output}.log\"\n",
    "\n",
    "rule filter_rrna_tbl:\n",
    "    input: \"{sample}.reads.rrna.cmsearch.tbl\"\n",
    "    output: \"{sample}.reads.rrna.cmsearch.SSU.tbl\"\n",
    "    shell: \"grep SSU {input} > {output}\"        \n",
    "\n",
    "rule find_rrna:\n",
    "  \"\"\" Search for sequences that look like rRNA \"\"\"\n",
    "  input: \"{sample}.reads.fasta\"\n",
    "  output: \"{sample}.reads.rrna.cmsearch.tbl\"\n",
    "  params:\n",
    "    model = \"../../data/rRNA.cm\"\n",
    "  shell: \n",
    "    \"cmsearch --hmmonly -o /dev/null --tblout {output} --cpu 10 {params.model} {input}\"\n",
    "\n",
    "rule fastq_to_fasta:\n",
    "  input: \"{sample}.reads.fastq\"\n",
    "  output: \"{sample}.reads.fasta\"\n",
    "  shell: \"seqtk seq -A {input} > {output}\"\n",
    "    "
   ]
  },
  {
   "cell_type": "code",
   "execution_count": null,
   "metadata": {},
   "outputs": [],
   "source": [
    "#Now you can run this workflow with\n",
    "!snakemake --config ranks=phylum,order,genus"
   ]
  },
  {
   "cell_type": "markdown",
   "metadata": {
    "collapsed": true
   },
   "source": [
    "Now we have six count files: three ranks for two samples!\n",
    "\n",
    "Note that it only ran the filter and mapping rules for the \"other\" sample, since those rules were complete for the \"my\" sample."
   ]
  },
  {
   "cell_type": "code",
   "execution_count": null,
   "metadata": {},
   "outputs": [],
   "source": [
    "!ls -lrth *.tsv"
   ]
  },
  {
   "cell_type": "markdown",
   "metadata": {},
   "source": [
    "(The \"domain\" counts are still there from before, so we have 7 files.)"
   ]
  },
  {
   "cell_type": "markdown",
   "metadata": {},
   "source": [
    "### Meta Data\n",
    "Snakemake has a couple built in tools for summarizing what just happened."
   ]
  },
  {
   "cell_type": "code",
   "execution_count": null,
   "metadata": {
    "collapsed": true
   },
   "outputs": [],
   "source": [
    "!snakemake --config ranks=phylum,order,genus --dag | dot -Tpng > dag.png"
   ]
  },
  {
   "cell_type": "code",
   "execution_count": null,
   "metadata": {},
   "outputs": [],
   "source": [
    "from IPython.display import Image\n",
    "Image(filename='dag.png') "
   ]
  },
  {
   "cell_type": "code",
   "execution_count": null,
   "metadata": {},
   "outputs": [],
   "source": [
    "!snakemake --config ranks=phylum,order,genus -D"
   ]
  },
  {
   "cell_type": "code",
   "execution_count": null,
   "metadata": {
    "collapsed": true
   },
   "outputs": [],
   "source": []
  }
 ],
 "metadata": {
  "kernelspec": {
   "display_name": "Python [default]",
   "language": "python",
   "name": "python3"
  },
  "language_info": {
   "codemirror_mode": {
    "name": "ipython",
    "version": 3
   },
   "file_extension": ".py",
   "mimetype": "text/x-python",
   "name": "python",
   "nbconvert_exporter": "python",
   "pygments_lexer": "ipython3",
   "version": "3.5.4"
  },
  "nbpresent": {
   "slides": {
    "126ba8e0-5bab-4818-a48a-345009332aa0": {
     "id": "126ba8e0-5bab-4818-a48a-345009332aa0",
     "prev": "f7578591-80fe-41cd-81c4-b201d7808676",
     "regions": {
      "3f5a910f-6755-465c-a3af-226f2b1e754d": {
       "attrs": {
        "height": 0.8,
        "width": 0.8,
        "x": 0.1,
        "y": 0.1
       },
       "content": {
        "cell": "c1cadd78-00c6-46af-8834-5e982ab7fd6b",
        "part": "whole"
       },
       "id": "3f5a910f-6755-465c-a3af-226f2b1e754d"
      }
     }
    },
    "12dbe8b2-923c-40c0-bca3-e653aab47ce1": {
     "id": "12dbe8b2-923c-40c0-bca3-e653aab47ce1",
     "prev": "b871d7d7-894b-4f67-ab20-6c0853711c41",
     "regions": {
      "a2a66c76-5ab1-4ab0-b606-efc185fa10cd": {
       "attrs": {
        "height": 0.8,
        "width": 0.8,
        "x": 0.1,
        "y": 0.1
       },
       "content": {
        "cell": "21bae5af-b752-43c7-87d5-0fd05ea0d277",
        "part": "whole"
       },
       "id": "a2a66c76-5ab1-4ab0-b606-efc185fa10cd"
      }
     }
    },
    "18af78a9-debe-456e-97ef-411f78eca530": {
     "id": "18af78a9-debe-456e-97ef-411f78eca530",
     "prev": "1fe62101-367e-4315-a1b5-d098c02392c1",
     "regions": {
      "842a8760-72a5-4549-9d0d-18457fcf8cd2": {
       "attrs": {
        "height": 0.8,
        "width": 0.8,
        "x": 0.1,
        "y": 0.1
       },
       "content": {
        "cell": "9f4633b5-4b72-4f00-9738-cdebaf497cf2",
        "part": "whole"
       },
       "id": "842a8760-72a5-4549-9d0d-18457fcf8cd2"
      }
     }
    },
    "1fe62101-367e-4315-a1b5-d098c02392c1": {
     "id": "1fe62101-367e-4315-a1b5-d098c02392c1",
     "prev": "df3122f2-234b-4313-a045-7cbbc23becc6",
     "regions": {
      "a0407531-b90e-4bd5-b300-20bff89374f1": {
       "attrs": {
        "height": 0.8,
        "width": 0.8,
        "x": 0.1,
        "y": 0.1
       },
       "content": {
        "cell": "3e3d0822-842d-475b-9e58-493a149a16fa",
        "part": "whole"
       },
       "id": "a0407531-b90e-4bd5-b300-20bff89374f1"
      }
     }
    },
    "2c35a9b5-c5d8-40f0-8dbe-41a691719bd7": {
     "id": "2c35a9b5-c5d8-40f0-8dbe-41a691719bd7",
     "prev": "18af78a9-debe-456e-97ef-411f78eca530",
     "regions": {
      "85bbabb0-90ce-4ba0-a89e-fc198e13d3f0": {
       "attrs": {
        "height": 0.8,
        "width": 0.8,
        "x": 0.1,
        "y": 0.1
       },
       "content": {
        "cell": "ce8e3e14-a6ef-47a1-984d-37e13200dbf1",
        "part": "whole"
       },
       "id": "85bbabb0-90ce-4ba0-a89e-fc198e13d3f0"
      }
     }
    },
    "361078d6-694f-4d80-9c31-57483a3c92ba": {
     "id": "361078d6-694f-4d80-9c31-57483a3c92ba",
     "prev": "da3d9c54-66bd-4de4-8e88-bc852c332c6c",
     "regions": {
      "b2906329-e7ec-43e7-9cec-338c7e98fb9c": {
       "attrs": {
        "height": 0.8,
        "width": 0.8,
        "x": 0.1,
        "y": 0.1
       },
       "content": {
        "cell": "ca9d3372-7a12-4430-9c9c-ce6384d8fef5",
        "part": "whole"
       },
       "id": "b2906329-e7ec-43e7-9cec-338c7e98fb9c"
      }
     }
    },
    "3dd0d43c-b52b-4d9f-b5cf-7c92774d7175": {
     "id": "3dd0d43c-b52b-4d9f-b5cf-7c92774d7175",
     "prev": "ed588fed-2634-4462-b879-980983d71948",
     "regions": {
      "7d2fd712-d8dd-42a1-95cb-bf63ec08e201": {
       "attrs": {
        "height": 0.8,
        "width": 0.8,
        "x": 0.1,
        "y": 0.1
       },
       "content": {
        "cell": "cd765bce-17ce-482a-b972-7efa45fd4ed0",
        "part": "whole"
       },
       "id": "7d2fd712-d8dd-42a1-95cb-bf63ec08e201"
      }
     }
    },
    "47989057-9aec-4af2-bb46-4171623a4d86": {
     "id": "47989057-9aec-4af2-bb46-4171623a4d86",
     "prev": "dcf6255b-264f-4a61-9a86-57d451ae31d6",
     "regions": {
      "665f2eb9-f40c-4724-a064-a63ea113ff36": {
       "attrs": {
        "height": 0.8,
        "width": 0.8,
        "x": 0.1,
        "y": 0.1
       },
       "content": {
        "cell": "d11f976e-99ca-46f4-ad4a-86bce872ccea",
        "part": "whole"
       },
       "id": "665f2eb9-f40c-4724-a064-a63ea113ff36"
      }
     }
    },
    "4bf3c17b-a97e-4f9f-9141-13171d560ae7": {
     "id": "4bf3c17b-a97e-4f9f-9141-13171d560ae7",
     "prev": "2c35a9b5-c5d8-40f0-8dbe-41a691719bd7",
     "regions": {
      "334fd4f9-f057-4e24-9427-961c5134a579": {
       "attrs": {
        "height": 0.8,
        "width": 0.8,
        "x": 0.1,
        "y": 0.1
       },
       "content": {
        "cell": "fdc145d7-848a-41cb-bfce-d8c82d66f1b4",
        "part": "whole"
       },
       "id": "334fd4f9-f057-4e24-9427-961c5134a579"
      }
     }
    },
    "5dc3e649-8cf6-43c1-b085-303645ffdff2": {
     "id": "5dc3e649-8cf6-43c1-b085-303645ffdff2",
     "prev": "4bf3c17b-a97e-4f9f-9141-13171d560ae7",
     "regions": {
      "94fc944b-5356-445a-8cbb-16644ab7b210": {
       "attrs": {
        "height": 0.8,
        "width": 0.8,
        "x": 0.1,
        "y": 0.1
       },
       "content": {
        "cell": "2d157736-989a-4fbb-8071-b8972c1fbf0b",
        "part": "whole"
       },
       "id": "94fc944b-5356-445a-8cbb-16644ab7b210"
      }
     }
    },
    "6230d331-e31b-45f4-89d5-fe66b7fb1827": {
     "id": "6230d331-e31b-45f4-89d5-fe66b7fb1827",
     "prev": "12dbe8b2-923c-40c0-bca3-e653aab47ce1",
     "regions": {
      "88414f6a-5e0e-4fd8-a633-bc06e3c9af0c": {
       "attrs": {
        "height": 0.8,
        "width": 0.8,
        "x": 0.1,
        "y": 0.1
       },
       "content": {
        "cell": "d914ce11-93fc-4465-8efa-5279c1d70cd8",
        "part": "whole"
       },
       "id": "88414f6a-5e0e-4fd8-a633-bc06e3c9af0c"
      }
     }
    },
    "7417d7ee-5633-4841-bf27-97962ea56469": {
     "id": "7417d7ee-5633-4841-bf27-97962ea56469",
     "prev": "f2418dca-100a-4ca9-8b95-21af2d92c4d1",
     "regions": {
      "c172eea2-1847-4944-baf7-f620ae731e7c": {
       "attrs": {
        "height": 0.8,
        "width": 0.8,
        "x": 0.1,
        "y": 0.1
       },
       "content": {
        "cell": "5139a107-3226-4a23-8074-60403dafac43",
        "part": "whole"
       },
       "id": "c172eea2-1847-4944-baf7-f620ae731e7c"
      }
     }
    },
    "7562bec7-bb58-4788-9b48-c24793fd0b4f": {
     "id": "7562bec7-bb58-4788-9b48-c24793fd0b4f",
     "prev": "5dc3e649-8cf6-43c1-b085-303645ffdff2",
     "regions": {
      "63a88fce-0a0d-4b4e-a20d-e531d24b5352": {
       "attrs": {
        "height": 0.8,
        "width": 0.8,
        "x": 0.1,
        "y": 0.1
       },
       "content": {
        "cell": "6b24e448-0731-4263-ac81-d094e6fc6f4e",
        "part": "whole"
       },
       "id": "63a88fce-0a0d-4b4e-a20d-e531d24b5352"
      }
     }
    },
    "80ed6677-ada8-4910-8ba2-95fb3a563c88": {
     "id": "80ed6677-ada8-4910-8ba2-95fb3a563c88",
     "prev": "361078d6-694f-4d80-9c31-57483a3c92ba",
     "regions": {
      "31802cf8-8fb4-4a63-a187-c62904ee1a2e": {
       "attrs": {
        "height": 0.8,
        "width": 0.8,
        "x": 0.1,
        "y": 0.1
       },
       "content": {
        "cell": "51b49798-bbc3-4347-863c-103b5ed817c8",
        "part": "whole"
       },
       "id": "31802cf8-8fb4-4a63-a187-c62904ee1a2e"
      }
     }
    },
    "813bc531-6023-40dc-b77d-2f79982f88a2": {
     "id": "813bc531-6023-40dc-b77d-2f79982f88a2",
     "prev": "c2052cde-ffcf-4510-8020-dd34593a910d",
     "regions": {
      "1e7be6ad-d0fc-4ae2-9b13-98583da865bb": {
       "attrs": {
        "height": 0.8,
        "width": 0.8,
        "x": 0.1,
        "y": 0.1
       },
       "content": {
        "cell": "93f35b27-c4a5-4e2b-b28d-20baaee91e4f",
        "part": "whole"
       },
       "id": "1e7be6ad-d0fc-4ae2-9b13-98583da865bb"
      }
     }
    },
    "81feb341-24fb-4fda-9c61-42ce844f7e7d": {
     "id": "81feb341-24fb-4fda-9c61-42ce844f7e7d",
     "prev": "8da97c73-b847-4c25-82cd-6b160e68729d",
     "regions": {
      "2f8d499c-16eb-4c5a-afd1-b293cb6d91e8": {
       "attrs": {
        "height": 0.8,
        "width": 0.8,
        "x": 0.1,
        "y": 0.1
       },
       "content": {
        "cell": "937d0224-649b-4b4a-8f07-becb9fa5938e",
        "part": "whole"
       },
       "id": "2f8d499c-16eb-4c5a-afd1-b293cb6d91e8"
      }
     }
    },
    "8da97c73-b847-4c25-82cd-6b160e68729d": {
     "id": "8da97c73-b847-4c25-82cd-6b160e68729d",
     "prev": "47989057-9aec-4af2-bb46-4171623a4d86",
     "regions": {
      "76456981-0f85-4f58-bf54-ed1f723e82e2": {
       "attrs": {
        "height": 0.8,
        "width": 0.8,
        "x": 0.1,
        "y": 0.1
       },
       "content": {
        "cell": "e4e4d642-adc5-4608-8be1-53b35a7b098c",
        "part": "whole"
       },
       "id": "76456981-0f85-4f58-bf54-ed1f723e82e2"
      }
     }
    },
    "91d1a903-2576-4117-8a09-da9e52d4be7c": {
     "id": "91d1a903-2576-4117-8a09-da9e52d4be7c",
     "prev": "80ed6677-ada8-4910-8ba2-95fb3a563c88",
     "regions": {
      "03c6efe4-0a03-44dc-af69-b136e09d9ccc": {
       "attrs": {
        "height": 0.8,
        "width": 0.8,
        "x": 0.1,
        "y": 0.1
       },
       "content": {
        "cell": "351555c4-a8db-4382-9cd7-aca9eb79b044",
        "part": "whole"
       },
       "id": "03c6efe4-0a03-44dc-af69-b136e09d9ccc"
      }
     }
    },
    "9c6ba897-d1bd-440e-8b19-de55c80a7822": {
     "id": "9c6ba897-d1bd-440e-8b19-de55c80a7822",
     "prev": "ae9d271c-3681-489f-ac09-5689902df0ad",
     "regions": {
      "04932705-d7f1-4ba9-a699-f6c814df3f04": {
       "attrs": {
        "height": 0.8,
        "width": 0.8,
        "x": 0.1,
        "y": 0.1
       },
       "content": {
        "cell": "01294872-9852-40b0-a180-20de9661e3b8",
        "part": "whole"
       },
       "id": "04932705-d7f1-4ba9-a699-f6c814df3f04"
      }
     }
    },
    "a396dd63-4957-4cbf-930a-a36a8b0a442f": {
     "id": "a396dd63-4957-4cbf-930a-a36a8b0a442f",
     "prev": "c2493b21-3412-4ed2-b86e-82839284d73f",
     "regions": {
      "610af6a4-79a4-44cc-a1c4-5a6f23b02677": {
       "attrs": {
        "height": 0.8,
        "width": 0.8,
        "x": 0.1,
        "y": 0.1
       },
       "content": {
        "cell": "40b28dc6-b9d2-4feb-96ae-998120ac4997",
        "part": "whole"
       },
       "id": "610af6a4-79a4-44cc-a1c4-5a6f23b02677"
      }
     }
    },
    "ac92cc9f-effe-4cf5-9750-574bbb871008": {
     "id": "ac92cc9f-effe-4cf5-9750-574bbb871008",
     "prev": "813bc531-6023-40dc-b77d-2f79982f88a2",
     "regions": {
      "6e45ab77-afe2-4852-a168-fadf8eaf54f6": {
       "attrs": {
        "height": 0.8,
        "width": 0.8,
        "x": 0.1,
        "y": 0.1
       },
       "content": {
        "cell": "8151f2f5-6f2f-45e1-a5c3-e7d1ef1b15f1",
        "part": "whole"
       },
       "id": "6e45ab77-afe2-4852-a168-fadf8eaf54f6"
      }
     }
    },
    "ae9d271c-3681-489f-ac09-5689902df0ad": {
     "id": "ae9d271c-3681-489f-ac09-5689902df0ad",
     "prev": "ac92cc9f-effe-4cf5-9750-574bbb871008",
     "regions": {
      "e5cb0bd1-d0cb-43f9-a239-7138a257648d": {
       "attrs": {
        "height": 0.8,
        "width": 0.8,
        "x": 0.1,
        "y": 0.1
       },
       "content": {
        "cell": "646913e3-d7f8-416e-b9f0-ef99f650a509",
        "part": "whole"
       },
       "id": "e5cb0bd1-d0cb-43f9-a239-7138a257648d"
      }
     }
    },
    "b714223c-2a1e-4979-b8b9-0fd76d72048d": {
     "id": "b714223c-2a1e-4979-b8b9-0fd76d72048d",
     "prev": "a396dd63-4957-4cbf-930a-a36a8b0a442f",
     "regions": {
      "a695c4f6-61ef-4789-860b-9c963fadd80b": {
       "attrs": {
        "height": 0.8,
        "width": 0.8,
        "x": 0.1,
        "y": 0.1
       },
       "content": {
        "cell": "63dcb7e6-f7da-4654-9c5a-fbddeba265e0",
        "part": "whole"
       },
       "id": "a695c4f6-61ef-4789-860b-9c963fadd80b"
      }
     }
    },
    "b871d7d7-894b-4f67-ab20-6c0853711c41": {
     "id": "b871d7d7-894b-4f67-ab20-6c0853711c41",
     "prev": "126ba8e0-5bab-4818-a48a-345009332aa0",
     "regions": {
      "d8043612-8ac6-4422-9934-751601859bc0": {
       "attrs": {
        "height": 0.8,
        "width": 0.8,
        "x": 0.1,
        "y": 0.1
       },
       "content": {
        "cell": "7dbc7bb3-4bf5-4554-9867-badfab2b3418",
        "part": "whole"
       },
       "id": "d8043612-8ac6-4422-9934-751601859bc0"
      }
     }
    },
    "c2052cde-ffcf-4510-8020-dd34593a910d": {
     "id": "c2052cde-ffcf-4510-8020-dd34593a910d",
     "prev": null,
     "regions": {
      "553cf022-3c4a-47b0-8b5d-569be8b26e17": {
       "attrs": {
        "height": 0.8,
        "width": 0.8,
        "x": 0.1,
        "y": 0.1
       },
       "content": {
        "cell": "c200b928-ac10-4372-833c-9c171037f14f",
        "part": "whole"
       },
       "id": "553cf022-3c4a-47b0-8b5d-569be8b26e17"
      }
     }
    },
    "c2493b21-3412-4ed2-b86e-82839284d73f": {
     "id": "c2493b21-3412-4ed2-b86e-82839284d73f",
     "prev": "e4344503-9a25-46b3-b1f0-8e85f81364e1",
     "regions": {
      "0490fba7-1093-4bc0-be56-b93eede352b8": {
       "attrs": {
        "height": 0.8,
        "width": 0.8,
        "x": 0.1,
        "y": 0.1
       },
       "content": {
        "cell": "bfe0c8c7-29ed-412f-8c3b-42266cf8f467",
        "part": "whole"
       },
       "id": "0490fba7-1093-4bc0-be56-b93eede352b8"
      }
     }
    },
    "c831a5e9-68e2-4613-a856-f089a488110c": {
     "id": "c831a5e9-68e2-4613-a856-f089a488110c",
     "prev": "9c6ba897-d1bd-440e-8b19-de55c80a7822",
     "regions": {
      "af19e4a4-1773-4fca-9a58-fc7ff0f70000": {
       "attrs": {
        "height": 0.8,
        "width": 0.8,
        "x": 0.1,
        "y": 0.1
       },
       "content": {
        "cell": "b66c8b22-1bf0-4579-9759-9fe5e501ac60",
        "part": "whole"
       },
       "id": "af19e4a4-1773-4fca-9a58-fc7ff0f70000"
      }
     }
    },
    "cb541253-8d2e-4005-af7c-0e2a4860974c": {
     "id": "cb541253-8d2e-4005-af7c-0e2a4860974c",
     "prev": "81feb341-24fb-4fda-9c61-42ce844f7e7d",
     "regions": {
      "2e69bc08-008a-463c-8ff5-f406d080072f": {
       "attrs": {
        "height": 0.8,
        "width": 0.8,
        "x": 0.1,
        "y": 0.1
       },
       "content": {
        "cell": "3824c22c-c47c-41c3-b6e3-7725e00e7cfb",
        "part": "whole"
       },
       "id": "2e69bc08-008a-463c-8ff5-f406d080072f"
      }
     }
    },
    "d60dee2f-9eaa-479d-8896-59e9d2b0a905": {
     "id": "d60dee2f-9eaa-479d-8896-59e9d2b0a905",
     "prev": "91d1a903-2576-4117-8a09-da9e52d4be7c",
     "regions": {
      "9cd26d11-7055-4745-87dd-01b15cda9bf8": {
       "attrs": {
        "height": 0.8,
        "width": 0.8,
        "x": 0.1,
        "y": 0.1
       },
       "content": {
        "cell": "b1a01762-4bef-461f-9823-c95a739a6bf8",
        "part": "whole"
       },
       "id": "9cd26d11-7055-4745-87dd-01b15cda9bf8"
      }
     }
    },
    "d63b70c5-e423-4435-8c69-1dd8fd9a7ac3": {
     "id": "d63b70c5-e423-4435-8c69-1dd8fd9a7ac3",
     "prev": "b714223c-2a1e-4979-b8b9-0fd76d72048d",
     "regions": {
      "6f8cf3be-2ae3-40cd-a0a5-41265b948358": {
       "attrs": {
        "height": 0.8,
        "width": 0.8,
        "x": 0.1,
        "y": 0.1
       },
       "content": {
        "cell": "8b7b67b7-070e-4746-9048-7f94b255ac29",
        "part": "whole"
       },
       "id": "6f8cf3be-2ae3-40cd-a0a5-41265b948358"
      }
     }
    },
    "da3d9c54-66bd-4de4-8e88-bc852c332c6c": {
     "id": "da3d9c54-66bd-4de4-8e88-bc852c332c6c",
     "prev": "c831a5e9-68e2-4613-a856-f089a488110c",
     "regions": {
      "188d5ec2-5f66-4083-ba48-01b574404836": {
       "attrs": {
        "height": 0.8,
        "width": 0.8,
        "x": 0.1,
        "y": 0.1
       },
       "content": {
        "cell": "d5cbe594-1ae3-4866-b27f-14983120443f",
        "part": "whole"
       },
       "id": "188d5ec2-5f66-4083-ba48-01b574404836"
      }
     }
    },
    "dcf6255b-264f-4a61-9a86-57d451ae31d6": {
     "id": "dcf6255b-264f-4a61-9a86-57d451ae31d6",
     "prev": "6230d331-e31b-45f4-89d5-fe66b7fb1827",
     "regions": {
      "4c92a705-db63-48bf-bef4-a2bc39712c4e": {
       "attrs": {
        "height": 0.8,
        "width": 0.8,
        "x": 0.1,
        "y": 0.1
       },
       "content": {
        "cell": "7ad73740-3b0f-4b82-8546-b71171523682",
        "part": "whole"
       },
       "id": "4c92a705-db63-48bf-bef4-a2bc39712c4e"
      }
     }
    },
    "df3122f2-234b-4313-a045-7cbbc23becc6": {
     "id": "df3122f2-234b-4313-a045-7cbbc23becc6",
     "prev": "f520db3b-ed00-4e57-8138-7552b6c38257",
     "regions": {
      "97ff7780-fe7e-412a-a50e-e994efe6d9bb": {
       "attrs": {
        "height": 0.8,
        "width": 0.8,
        "x": 0.1,
        "y": 0.1
       },
       "content": {
        "cell": "83f692ea-d19d-4536-8bee-1435529fd63f",
        "part": "whole"
       },
       "id": "97ff7780-fe7e-412a-a50e-e994efe6d9bb"
      }
     }
    },
    "e4344503-9a25-46b3-b1f0-8e85f81364e1": {
     "id": "e4344503-9a25-46b3-b1f0-8e85f81364e1",
     "prev": "d60dee2f-9eaa-479d-8896-59e9d2b0a905",
     "regions": {
      "5dc7e7be-2796-413a-bfc7-eb4fb9f1fb3e": {
       "attrs": {
        "height": 0.8,
        "width": 0.8,
        "x": 0.1,
        "y": 0.1
       },
       "content": {
        "cell": "ddd29e64-6710-4c42-86d4-3add7f489109",
        "part": "whole"
       },
       "id": "5dc7e7be-2796-413a-bfc7-eb4fb9f1fb3e"
      }
     }
    },
    "ed588fed-2634-4462-b879-980983d71948": {
     "id": "ed588fed-2634-4462-b879-980983d71948",
     "prev": "cb541253-8d2e-4005-af7c-0e2a4860974c",
     "regions": {
      "d0d73766-bf3f-418c-9d1c-f62464760646": {
       "attrs": {
        "height": 0.8,
        "width": 0.8,
        "x": 0.1,
        "y": 0.1
       },
       "content": {
        "cell": "549942b3-8d0e-415d-be4f-6829a7074cba",
        "part": "whole"
       },
       "id": "d0d73766-bf3f-418c-9d1c-f62464760646"
      }
     }
    },
    "f2418dca-100a-4ca9-8b95-21af2d92c4d1": {
     "id": "f2418dca-100a-4ca9-8b95-21af2d92c4d1",
     "prev": "d63b70c5-e423-4435-8c69-1dd8fd9a7ac3",
     "regions": {
      "18eb8739-1963-4ab2-a297-00b513ca1730": {
       "attrs": {
        "height": 0.8,
        "width": 0.8,
        "x": 0.1,
        "y": 0.1
       },
       "content": {
        "cell": "6690a382-6c5b-457f-a917-24dfef5ef557",
        "part": "whole"
       },
       "id": "18eb8739-1963-4ab2-a297-00b513ca1730"
      }
     }
    },
    "f520db3b-ed00-4e57-8138-7552b6c38257": {
     "id": "f520db3b-ed00-4e57-8138-7552b6c38257",
     "prev": "7417d7ee-5633-4841-bf27-97962ea56469",
     "regions": {
      "e63ead9b-e427-4aa1-aca6-013ba9fb1500": {
       "attrs": {
        "height": 0.8,
        "width": 0.8,
        "x": 0.1,
        "y": 0.1
       },
       "content": {
        "cell": "3b68a16b-43fc-4230-9191-ca0024b5e196",
        "part": "whole"
       },
       "id": "e63ead9b-e427-4aa1-aca6-013ba9fb1500"
      }
     }
    },
    "f7578591-80fe-41cd-81c4-b201d7808676": {
     "id": "f7578591-80fe-41cd-81c4-b201d7808676",
     "prev": "7562bec7-bb58-4788-9b48-c24793fd0b4f",
     "regions": {
      "35f232f5-1c3f-4670-9b92-e1e05bc18014": {
       "attrs": {
        "height": 0.8,
        "width": 0.8,
        "x": 0.1,
        "y": 0.1
       },
       "content": {
        "cell": "7fb870e9-b3d2-4741-b96d-1b67d194c606",
        "part": "whole"
       },
       "id": "35f232f5-1c3f-4670-9b92-e1e05bc18014"
      }
     }
    }
   },
   "themes": {}
  }
 },
 "nbformat": 4,
 "nbformat_minor": 2
}
